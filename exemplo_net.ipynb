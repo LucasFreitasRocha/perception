{
 "cells": [
  {
   "cell_type": "code",
   "execution_count": 2,
   "metadata": {},
   "outputs": [],
   "source": [
    "d = {'iago' : 25 , 'lucas' : 23 }"
   ]
  },
  {
   "cell_type": "code",
   "execution_count": 3,
   "metadata": {},
   "outputs": [
    {
     "data": {
      "text/plain": [
       "25"
      ]
     },
     "execution_count": 3,
     "metadata": {},
     "output_type": "execute_result"
    }
   ],
   "source": [
    "d['iago']"
   ]
  },
  {
   "cell_type": "code",
   "execution_count": 4,
   "metadata": {},
   "outputs": [
    {
     "data": {
      "text/plain": [
       "23"
      ]
     },
     "execution_count": 4,
     "metadata": {},
     "output_type": "execute_result"
    }
   ],
   "source": [
    "d['lucas']"
   ]
  },
  {
   "cell_type": "code",
   "execution_count": 3,
   "metadata": {},
   "outputs": [
    {
     "name": "stdout",
     "output_type": "stream",
     "text": [
      "Treinando\n",
      "INTERACAO 1-------------------------\n",
      "asus = padrao nao identificado = Falha - Peso atualizado\n",
      "dell = padrao nao identificado = Falha - Peso atualizado\n",
      "positivo = asus = acerto\n",
      "ps4 = asus = Falha - Peso atualizado\n",
      "xbox = padrao nao identificado = Falha - Peso atualizado\n",
      "\n",
      "INTERACAO 2-------------------------\n",
      "asus = asus = acerto\n",
      "dell = asus = acerto\n",
      "positivo = console = Falha - Peso atualizado\n",
      "ps4 = padrao nao identificado = Falha - Peso atualizado\n",
      "xbox = console = acerto\n",
      "\n",
      "INTERACAO 3-------------------------\n",
      "asus = asus = acerto\n",
      "dell = asus = acerto\n",
      "positivo = asus = acerto\n",
      "ps4 = console = acerto\n",
      "xbox = console = acerto\n",
      "Funcionalidade aprendida com 3 interacoes\n",
      "Finalizado\n"
     ]
    }
   ],
   "source": [
    "#!/usr/bin/env python\n",
    "# -*- coding: utf-8 -*-\n",
    "\n",
    "# aplicativo para verificar se o ser vivo eh quadrupede ou bipede\n",
    "# quadrupede = 1, bipede = -1\n",
    "# cao = [-1,-1,1,1] | resposta = 1\n",
    "# gato = [1,1,1,1] | resposta = 1\n",
    "# cavalo = [1,1,-1,1] | resposta = 1\n",
    "# homem = [-1,-1,-1,1] | resposta = -1\n",
    "\n",
    "# pesos (sinapses)\n",
    "w = [0,0,0,0]\n",
    "# entradas\n",
    "x = [[-1,-1,1,1],\n",
    "     [1,1,1,1],\n",
    "     [1,1,-1,1],\n",
    "     [-1,-1,-1,1],\n",
    "     [1,1,-1,-1]\n",
    "    ]\n",
    "# respostas esperadas\n",
    "t = [1,1,1,-1,-1]\n",
    "# bias (ajuste fino)\n",
    "b = 0\n",
    "#saida\n",
    "y = 0\n",
    "# numero maximo de interacoes\n",
    "max_int = 10\n",
    "# taxa de aprendizado\n",
    "taxa_aprendizado = 1\n",
    "#soma\n",
    "soma = 0\n",
    "#theshold\n",
    "threshold = 1\n",
    "# nome do animal\n",
    "animal = \"\"\n",
    "# resposta = acerto ou falha\n",
    "resposta = \"\"\n",
    "\n",
    "# dicionario de dados\n",
    "d = {'-1,-1,1,1' : 'asus',\n",
    "     '1,1,1,1' : 'dell',\n",
    "     '1,1,-1,1' : 'positivo',\n",
    "     '-1,-1,-1,1' : 'ps4',\n",
    "     '1,1,-1,-1' : 'xbox'}\n",
    "\n",
    "\n",
    "print(\"Treinando\")\n",
    "\n",
    "# funcao para converter listas em strings\n",
    "def listToString(list):\n",
    "    s = str(list).strip('[]')\n",
    "    s = s.replace(' ', '')\n",
    "    return s\n",
    "\n",
    "# inicio do algoritmo\n",
    "for k in range(1,max_int):\n",
    "    acertos = 0    \n",
    "    print(\"INTERACAO \"+str(k)+\"-------------------------\")\n",
    "    for i in range(0,len(x)):\n",
    "        soma = 0\n",
    "\n",
    "        # pega o nome do animal no dicionário\n",
    "        if d[listToString(x[i])]:\n",
    "            animal = d[listToString(x[i])]  \n",
    "        else:\n",
    "            animal = \"\"\n",
    "\n",
    "        # para calcular a saida do perceptron, cada entrada de x eh multiplicada\n",
    "        # pelo seu peso w correspondente\n",
    "        for j in range(0,len(x[i])):\n",
    "            soma += x[i][j] * w[j]\n",
    "\n",
    "        # a saida eh igual a adicao do bias com a soma anterior\n",
    "        y_in = b + soma\n",
    "        #print(\"y_in = \",str(y_in))\n",
    "\n",
    "        # funcao de saida eh determinada pelo threshold\n",
    "        if y_in > threshold:\n",
    "            y = 1\n",
    "        elif y_in >= -threshold and y_in <= threshold:\n",
    "            y = 0\n",
    "        else:\n",
    "            y = -1        \n",
    "\n",
    "        # atualiza os pesos caso a saida nao corresponda ao valor esperado\n",
    "        if y == t[i]:\n",
    "            acertos+=1\n",
    "            resposta = \"acerto\"\n",
    "        else:\n",
    "            for j in range (0,len(w)):                \n",
    "                w[j] = w[j] + (taxa_aprendizado * t[i] * x[i][j])\n",
    "            b = b + taxa_aprendizado * t[i]\n",
    "            resposta = \"Falha - Peso atualizado\"\n",
    "\n",
    "        #imprime a resposta\n",
    "        if y == 1:\n",
    "            print(animal+\" = asus = \"+resposta)\n",
    "        elif y == 0:\n",
    "            print(animal+\" = padrao nao identificado = \"+resposta)\n",
    "        elif y == -1:\n",
    "            print(animal+\" = console = \"+resposta)\n",
    "\n",
    "    if acertos == len(x):\n",
    "        print(\"Funcionalidade aprendida com \"+str(k)+\" interacoes\")\n",
    "        break;\n",
    "    print(\"\")\n",
    "print(\"Finalizado\")"
   ]
  },
  {
   "cell_type": "code",
   "execution_count": 12,
   "metadata": {},
   "outputs": [
    {
     "data": {
      "text/plain": [
       "4"
      ]
     },
     "execution_count": 12,
     "metadata": {},
     "output_type": "execute_result"
    }
   ],
   "source": [
    "len(x)"
   ]
  },
  {
   "cell_type": "code",
   "execution_count": 13,
   "metadata": {},
   "outputs": [
    {
     "data": {
      "text/plain": [
       "[-1, -1, 1, 1]"
      ]
     },
     "execution_count": 13,
     "metadata": {},
     "output_type": "execute_result"
    }
   ],
   "source": [
    "x[0]"
   ]
  },
  {
   "cell_type": "code",
   "execution_count": 4,
   "metadata": {},
   "outputs": [
    {
     "data": {
      "text/plain": [
       "'xbox'"
      ]
     },
     "execution_count": 4,
     "metadata": {},
     "output_type": "execute_result"
    }
   ],
   "source": [
    "d[listToString(x[i])]"
   ]
  },
  {
   "cell_type": "code",
   "execution_count": 5,
   "metadata": {},
   "outputs": [
    {
     "data": {
      "text/plain": [
       "'asus'"
      ]
     },
     "execution_count": 5,
     "metadata": {},
     "output_type": "execute_result"
    }
   ],
   "source": [
    "d[listToString(x[0])]"
   ]
  },
  {
   "cell_type": "raw",
   "metadata": {},
   "source": [
    "def listToString(list):\n",
    "    s = str(list).strip('[]')\n",
    "    s = s.replace(' ', '')\n",
    "    return s"
   ]
  }
 ],
 "metadata": {
  "kernelspec": {
   "display_name": "Python 3",
   "language": "python",
   "name": "python3"
  },
  "language_info": {
   "codemirror_mode": {
    "name": "ipython",
    "version": 3
   },
   "file_extension": ".py",
   "mimetype": "text/x-python",
   "name": "python",
   "nbconvert_exporter": "python",
   "pygments_lexer": "ipython3",
   "version": "3.7.4"
  }
 },
 "nbformat": 4,
 "nbformat_minor": 2
}
